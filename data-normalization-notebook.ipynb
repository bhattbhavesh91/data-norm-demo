{
  "nbformat": 4,
  "nbformat_minor": 0,
  "metadata": {
    "colab": {
      "name": "Data Normalization.ipynb",
      "provenance": []
    },
    "kernelspec": {
      "name": "python3",
      "display_name": "Python 3"
    },
    "accelerator": "GPU"
  },
  "cells": [
    {
      "cell_type": "code",
      "metadata": {
        "id": "Wjefm0wzWbAJ",
        "colab_type": "code",
        "colab": {}
      },
      "source": [
        "import numpy as np\n",
        "import pandas as pd\n",
        "import tensorflow as tf\n",
        "import warnings\n",
        "from sklearn.preprocessing import StandardScaler\n",
        "from sklearn.model_selection import train_test_split\n",
        "from tensorflow.keras import Sequential\n",
        "from tensorflow.keras.layers import Dense"
      ],
      "execution_count": 1,
      "outputs": []
    },
    {
      "cell_type": "code",
      "metadata": {
        "id": "lHg5g2D0WsAs",
        "colab_type": "code",
        "colab": {}
      },
      "source": [
        "file_name = \"data.csv\""
      ],
      "execution_count": 2,
      "outputs": []
    },
    {
      "cell_type": "code",
      "metadata": {
        "id": "bIMgoWYcWxC3",
        "colab_type": "code",
        "colab": {}
      },
      "source": [
        "df = pd.read_csv(file_name)"
      ],
      "execution_count": 3,
      "outputs": []
    },
    {
      "cell_type": "code",
      "metadata": {
        "id": "2Mm7Vin_W-KT",
        "colab_type": "code",
        "colab": {
          "base_uri": "https://localhost:8080/",
          "height": 202
        },
        "outputId": "8ca25a38-50e0-4be3-9aa9-e22ecb3beeff"
      },
      "source": [
        "df.head()"
      ],
      "execution_count": 4,
      "outputs": [
        {
          "output_type": "execute_result",
          "data": {
            "text/html": [
              "<div>\n",
              "<style scoped>\n",
              "    .dataframe tbody tr th:only-of-type {\n",
              "        vertical-align: middle;\n",
              "    }\n",
              "\n",
              "    .dataframe tbody tr th {\n",
              "        vertical-align: top;\n",
              "    }\n",
              "\n",
              "    .dataframe thead th {\n",
              "        text-align: right;\n",
              "    }\n",
              "</style>\n",
              "<table border=\"1\" class=\"dataframe\">\n",
              "  <thead>\n",
              "    <tr style=\"text-align: right;\">\n",
              "      <th></th>\n",
              "      <th>Gender</th>\n",
              "      <th>Age</th>\n",
              "      <th>Salary</th>\n",
              "      <th>Purchased</th>\n",
              "    </tr>\n",
              "  </thead>\n",
              "  <tbody>\n",
              "    <tr>\n",
              "      <th>0</th>\n",
              "      <td>Male</td>\n",
              "      <td>19</td>\n",
              "      <td>19000</td>\n",
              "      <td>0</td>\n",
              "    </tr>\n",
              "    <tr>\n",
              "      <th>1</th>\n",
              "      <td>Male</td>\n",
              "      <td>35</td>\n",
              "      <td>20000</td>\n",
              "      <td>0</td>\n",
              "    </tr>\n",
              "    <tr>\n",
              "      <th>2</th>\n",
              "      <td>Female</td>\n",
              "      <td>26</td>\n",
              "      <td>43000</td>\n",
              "      <td>0</td>\n",
              "    </tr>\n",
              "    <tr>\n",
              "      <th>3</th>\n",
              "      <td>Female</td>\n",
              "      <td>27</td>\n",
              "      <td>57000</td>\n",
              "      <td>0</td>\n",
              "    </tr>\n",
              "    <tr>\n",
              "      <th>4</th>\n",
              "      <td>Male</td>\n",
              "      <td>19</td>\n",
              "      <td>76000</td>\n",
              "      <td>0</td>\n",
              "    </tr>\n",
              "  </tbody>\n",
              "</table>\n",
              "</div>"
            ],
            "text/plain": [
              "   Gender  Age  Salary  Purchased\n",
              "0    Male   19   19000          0\n",
              "1    Male   35   20000          0\n",
              "2  Female   26   43000          0\n",
              "3  Female   27   57000          0\n",
              "4    Male   19   76000          0"
            ]
          },
          "metadata": {
            "tags": []
          },
          "execution_count": 4
        }
      ]
    },
    {
      "cell_type": "code",
      "metadata": {
        "id": "apv__Y86ZF4H",
        "colab_type": "code",
        "colab": {
          "base_uri": "https://localhost:8080/",
          "height": 35
        },
        "outputId": "bb3ce46e-3e73-48f3-b51c-135b7a6b531b"
      },
      "source": [
        "df.shape"
      ],
      "execution_count": 5,
      "outputs": [
        {
          "output_type": "execute_result",
          "data": {
            "text/plain": [
              "(400, 4)"
            ]
          },
          "metadata": {
            "tags": []
          },
          "execution_count": 5
        }
      ]
    },
    {
      "cell_type": "code",
      "metadata": {
        "id": "2_EfXt8eXYru",
        "colab_type": "code",
        "colab": {}
      },
      "source": [
        "df['Gender'].replace(['Female','Male'],[0,1], inplace=True)"
      ],
      "execution_count": 6,
      "outputs": []
    },
    {
      "cell_type": "code",
      "metadata": {
        "id": "tnM0DPgWXGrK",
        "colab_type": "code",
        "colab": {}
      },
      "source": [
        "target = \"Purchased\""
      ],
      "execution_count": 7,
      "outputs": []
    },
    {
      "cell_type": "code",
      "metadata": {
        "id": "JmP-wmJ2XITO",
        "colab_type": "code",
        "colab": {}
      },
      "source": [
        "X = df.loc[:, df.columns != target]"
      ],
      "execution_count": 8,
      "outputs": []
    },
    {
      "cell_type": "code",
      "metadata": {
        "id": "L-4LYHvVXPCT",
        "colab_type": "code",
        "colab": {}
      },
      "source": [
        "y = df.loc[:, df.columns == target]"
      ],
      "execution_count": 9,
      "outputs": []
    },
    {
      "cell_type": "code",
      "metadata": {
        "id": "laHWJ2NJXgVU",
        "colab_type": "code",
        "colab": {}
      },
      "source": [
        "X_train, X_test, y_train, y_test = train_test_split(X, y, \n",
        "                                                    test_size=0.33, \n",
        "                                                    random_state=42)"
      ],
      "execution_count": 10,
      "outputs": []
    },
    {
      "cell_type": "markdown",
      "metadata": {
        "id": "W1GDGFrsi8c3",
        "colab_type": "text"
      },
      "source": [
        "# Data as is"
      ]
    },
    {
      "cell_type": "code",
      "metadata": {
        "id": "oLnQ3GPNXiFf",
        "colab_type": "code",
        "colab": {
          "base_uri": "https://localhost:8080/",
          "height": 1000
        },
        "outputId": "d3d31dc7-548c-414f-e878-8f099170158b"
      },
      "source": [
        "model = Sequential()\n",
        "model.add(Dense(32, input_dim=3, activation=\"relu\"))\n",
        "model.add(Dense(1, activation=\"sigmoid\"))\n",
        "model.compile(loss='binary_crossentropy', \n",
        "              optimizer='adam', \n",
        "              metrics=['binary_accuracy'])\n",
        "history = model.fit(X_train, y_train, epochs = 30, \n",
        "                    validation_data = (X_test, y_test))"
      ],
      "execution_count": 11,
      "outputs": [
        {
          "output_type": "stream",
          "text": [
            "Epoch 1/30\n",
            "9/9 [==============================] - 0s 29ms/step - loss: 11037.3223 - binary_accuracy: 0.6604 - val_loss: 10688.9619 - val_binary_accuracy: 0.6061\n",
            "Epoch 2/30\n",
            "9/9 [==============================] - 0s 9ms/step - loss: 9327.7764 - binary_accuracy: 0.6604 - val_loss: 8749.5322 - val_binary_accuracy: 0.6061\n",
            "Epoch 3/30\n",
            "9/9 [==============================] - 0s 9ms/step - loss: 7473.3169 - binary_accuracy: 0.6604 - val_loss: 6893.2568 - val_binary_accuracy: 0.6061\n",
            "Epoch 4/30\n",
            "9/9 [==============================] - 0s 9ms/step - loss: 5805.1768 - binary_accuracy: 0.6604 - val_loss: 4983.2197 - val_binary_accuracy: 0.6061\n",
            "Epoch 5/30\n",
            "9/9 [==============================] - 0s 9ms/step - loss: 3976.8218 - binary_accuracy: 0.6604 - val_loss: 3095.8987 - val_binary_accuracy: 0.6061\n",
            "Epoch 6/30\n",
            "9/9 [==============================] - 0s 9ms/step - loss: 2100.4937 - binary_accuracy: 0.6604 - val_loss: 1224.6471 - val_binary_accuracy: 0.6061\n",
            "Epoch 7/30\n",
            "9/9 [==============================] - 0s 10ms/step - loss: 527.5466 - binary_accuracy: 0.5485 - val_loss: 579.8167 - val_binary_accuracy: 0.3939\n",
            "Epoch 8/30\n",
            "9/9 [==============================] - 0s 9ms/step - loss: 570.5669 - binary_accuracy: 0.3396 - val_loss: 2.0556 - val_binary_accuracy: 0.3788\n",
            "Epoch 9/30\n",
            "9/9 [==============================] - 0s 9ms/step - loss: 320.3595 - binary_accuracy: 0.6306 - val_loss: 378.5552 - val_binary_accuracy: 0.6061\n",
            "Epoch 10/30\n",
            "9/9 [==============================] - 0s 9ms/step - loss: 210.0189 - binary_accuracy: 0.4776 - val_loss: 198.1132 - val_binary_accuracy: 0.3939\n",
            "Epoch 11/30\n",
            "9/9 [==============================] - 0s 10ms/step - loss: 123.6156 - binary_accuracy: 0.5485 - val_loss: 80.1030 - val_binary_accuracy: 0.6061\n",
            "Epoch 12/30\n",
            "9/9 [==============================] - 0s 9ms/step - loss: 57.7025 - binary_accuracy: 0.5037 - val_loss: 103.4556 - val_binary_accuracy: 0.6061\n",
            "Epoch 13/30\n",
            "9/9 [==============================] - 0s 9ms/step - loss: 59.0383 - binary_accuracy: 0.4888 - val_loss: 71.6763 - val_binary_accuracy: 0.6061\n",
            "Epoch 14/30\n",
            "9/9 [==============================] - 0s 10ms/step - loss: 73.6083 - binary_accuracy: 0.5224 - val_loss: 20.4576 - val_binary_accuracy: 0.3939\n",
            "Epoch 15/30\n",
            "9/9 [==============================] - 0s 10ms/step - loss: 81.3757 - binary_accuracy: 0.6082 - val_loss: 97.1205 - val_binary_accuracy: 0.3939\n",
            "Epoch 16/30\n",
            "9/9 [==============================] - 0s 10ms/step - loss: 63.2195 - binary_accuracy: 0.5410 - val_loss: 11.5530 - val_binary_accuracy: 0.6061\n",
            "Epoch 17/30\n",
            "9/9 [==============================] - 0s 10ms/step - loss: 27.6861 - binary_accuracy: 0.5037 - val_loss: 1.6230 - val_binary_accuracy: 0.5682\n",
            "Epoch 18/30\n",
            "9/9 [==============================] - 0s 10ms/step - loss: 18.6693 - binary_accuracy: 0.5373 - val_loss: 16.4404 - val_binary_accuracy: 0.6061\n",
            "Epoch 19/30\n",
            "9/9 [==============================] - 0s 9ms/step - loss: 23.5718 - binary_accuracy: 0.6157 - val_loss: 38.8024 - val_binary_accuracy: 0.6061\n",
            "Epoch 20/30\n",
            "9/9 [==============================] - 0s 9ms/step - loss: 21.9228 - binary_accuracy: 0.5112 - val_loss: 5.6330 - val_binary_accuracy: 0.6667\n",
            "Epoch 21/30\n",
            "9/9 [==============================] - 0s 9ms/step - loss: 21.4689 - binary_accuracy: 0.5522 - val_loss: 19.3348 - val_binary_accuracy: 0.3939\n",
            "Epoch 22/30\n",
            "9/9 [==============================] - 0s 9ms/step - loss: 33.9975 - binary_accuracy: 0.4739 - val_loss: 50.0767 - val_binary_accuracy: 0.6061\n",
            "Epoch 23/30\n",
            "9/9 [==============================] - 0s 9ms/step - loss: 37.1164 - binary_accuracy: 0.5261 - val_loss: 7.0663 - val_binary_accuracy: 0.6288\n",
            "Epoch 24/30\n",
            "9/9 [==============================] - 0s 9ms/step - loss: 54.4252 - binary_accuracy: 0.5187 - val_loss: 100.1741 - val_binary_accuracy: 0.6061\n",
            "Epoch 25/30\n",
            "9/9 [==============================] - 0s 9ms/step - loss: 27.2245 - binary_accuracy: 0.5410 - val_loss: 29.6344 - val_binary_accuracy: 0.6061\n",
            "Epoch 26/30\n",
            "9/9 [==============================] - 0s 8ms/step - loss: 34.2916 - binary_accuracy: 0.5187 - val_loss: 40.3869 - val_binary_accuracy: 0.6061\n",
            "Epoch 27/30\n",
            "9/9 [==============================] - 0s 9ms/step - loss: 46.6089 - binary_accuracy: 0.5037 - val_loss: 48.0226 - val_binary_accuracy: 0.6061\n",
            "Epoch 28/30\n",
            "9/9 [==============================] - 0s 9ms/step - loss: 44.5537 - binary_accuracy: 0.5336 - val_loss: 58.3023 - val_binary_accuracy: 0.6061\n",
            "Epoch 29/30\n",
            "9/9 [==============================] - 0s 13ms/step - loss: 27.6572 - binary_accuracy: 0.5597 - val_loss: 12.2056 - val_binary_accuracy: 0.6061\n",
            "Epoch 30/30\n",
            "9/9 [==============================] - 0s 9ms/step - loss: 32.9404 - binary_accuracy: 0.4851 - val_loss: 47.1270 - val_binary_accuracy: 0.3939\n"
          ],
          "name": "stdout"
        }
      ]
    },
    {
      "cell_type": "markdown",
      "metadata": {
        "id": "0W1tUblZjSGQ",
        "colab_type": "text"
      },
      "source": [
        "# Normalize Data"
      ]
    },
    {
      "cell_type": "code",
      "metadata": {
        "id": "KuWbiQo3ZiHB",
        "colab_type": "code",
        "colab": {}
      },
      "source": [
        "scaler = StandardScaler().fit(X_train)"
      ],
      "execution_count": 12,
      "outputs": []
    },
    {
      "cell_type": "code",
      "metadata": {
        "id": "RRe-djTXjM4t",
        "colab_type": "code",
        "colab": {}
      },
      "source": [
        "X_train_Scaled = scaler.transform(X_train)"
      ],
      "execution_count": 13,
      "outputs": []
    },
    {
      "cell_type": "code",
      "metadata": {
        "id": "zQcRFRCmZnZ3",
        "colab_type": "code",
        "colab": {}
      },
      "source": [
        "X_test_Scaled = scaler.transform(X_test)"
      ],
      "execution_count": 14,
      "outputs": []
    },
    {
      "cell_type": "code",
      "metadata": {
        "id": "biv1IzGsaLLL",
        "colab_type": "code",
        "colab": {
          "base_uri": "https://localhost:8080/",
          "height": 1000
        },
        "outputId": "de69723b-46f1-45cb-9109-a4576b893d71"
      },
      "source": [
        "model = Sequential()\n",
        "model.add(Dense(32, input_dim=3, activation=\"relu\"))\n",
        "model.add(Dense(1, activation=\"sigmoid\"))\n",
        "model.compile(loss='binary_crossentropy', \n",
        "              optimizer='adam', \n",
        "              metrics=['binary_accuracy'])\n",
        "history = model.fit(X_train_Scaled, y_train, epochs = 30, \n",
        "                    validation_data = (X_test_Scaled, y_test))"
      ],
      "execution_count": 15,
      "outputs": [
        {
          "output_type": "stream",
          "text": [
            "Epoch 1/30\n",
            "9/9 [==============================] - 0s 18ms/step - loss: 0.8448 - binary_accuracy: 0.1716 - val_loss: 0.8401 - val_binary_accuracy: 0.1667\n",
            "Epoch 2/30\n",
            "9/9 [==============================] - 0s 8ms/step - loss: 0.8120 - binary_accuracy: 0.2015 - val_loss: 0.8078 - val_binary_accuracy: 0.2045\n",
            "Epoch 3/30\n",
            "9/9 [==============================] - 0s 8ms/step - loss: 0.7809 - binary_accuracy: 0.2239 - val_loss: 0.7781 - val_binary_accuracy: 0.2576\n",
            "Epoch 4/30\n",
            "9/9 [==============================] - 0s 8ms/step - loss: 0.7537 - binary_accuracy: 0.2761 - val_loss: 0.7503 - val_binary_accuracy: 0.3030\n",
            "Epoch 5/30\n",
            "9/9 [==============================] - 0s 8ms/step - loss: 0.7276 - binary_accuracy: 0.3396 - val_loss: 0.7248 - val_binary_accuracy: 0.3636\n",
            "Epoch 6/30\n",
            "9/9 [==============================] - 0s 8ms/step - loss: 0.7036 - binary_accuracy: 0.4328 - val_loss: 0.7004 - val_binary_accuracy: 0.5303\n",
            "Epoch 7/30\n",
            "9/9 [==============================] - 0s 8ms/step - loss: 0.6806 - binary_accuracy: 0.6082 - val_loss: 0.6770 - val_binary_accuracy: 0.6970\n",
            "Epoch 8/30\n",
            "9/9 [==============================] - 0s 9ms/step - loss: 0.6595 - binary_accuracy: 0.7127 - val_loss: 0.6549 - val_binary_accuracy: 0.7576\n",
            "Epoch 9/30\n",
            "9/9 [==============================] - 0s 8ms/step - loss: 0.6383 - binary_accuracy: 0.7649 - val_loss: 0.6343 - val_binary_accuracy: 0.7576\n",
            "Epoch 10/30\n",
            "9/9 [==============================] - 0s 8ms/step - loss: 0.6184 - binary_accuracy: 0.7910 - val_loss: 0.6144 - val_binary_accuracy: 0.7727\n",
            "Epoch 11/30\n",
            "9/9 [==============================] - 0s 9ms/step - loss: 0.5997 - binary_accuracy: 0.7873 - val_loss: 0.5952 - val_binary_accuracy: 0.7727\n",
            "Epoch 12/30\n",
            "9/9 [==============================] - 0s 8ms/step - loss: 0.5811 - binary_accuracy: 0.8022 - val_loss: 0.5763 - val_binary_accuracy: 0.7727\n",
            "Epoch 13/30\n",
            "9/9 [==============================] - 0s 8ms/step - loss: 0.5631 - binary_accuracy: 0.8134 - val_loss: 0.5588 - val_binary_accuracy: 0.7955\n",
            "Epoch 14/30\n",
            "9/9 [==============================] - 0s 8ms/step - loss: 0.5461 - binary_accuracy: 0.8284 - val_loss: 0.5419 - val_binary_accuracy: 0.8030\n",
            "Epoch 15/30\n",
            "9/9 [==============================] - 0s 8ms/step - loss: 0.5303 - binary_accuracy: 0.8433 - val_loss: 0.5254 - val_binary_accuracy: 0.8182\n",
            "Epoch 16/30\n",
            "9/9 [==============================] - 0s 8ms/step - loss: 0.5145 - binary_accuracy: 0.8396 - val_loss: 0.5102 - val_binary_accuracy: 0.8333\n",
            "Epoch 17/30\n",
            "9/9 [==============================] - 0s 8ms/step - loss: 0.4999 - binary_accuracy: 0.8358 - val_loss: 0.4952 - val_binary_accuracy: 0.8409\n",
            "Epoch 18/30\n",
            "9/9 [==============================] - 0s 8ms/step - loss: 0.4859 - binary_accuracy: 0.8358 - val_loss: 0.4816 - val_binary_accuracy: 0.8409\n",
            "Epoch 19/30\n",
            "9/9 [==============================] - 0s 8ms/step - loss: 0.4732 - binary_accuracy: 0.8321 - val_loss: 0.4674 - val_binary_accuracy: 0.8561\n",
            "Epoch 20/30\n",
            "9/9 [==============================] - 0s 8ms/step - loss: 0.4611 - binary_accuracy: 0.8358 - val_loss: 0.4550 - val_binary_accuracy: 0.8561\n",
            "Epoch 21/30\n",
            "9/9 [==============================] - 0s 8ms/step - loss: 0.4498 - binary_accuracy: 0.8358 - val_loss: 0.4432 - val_binary_accuracy: 0.8636\n",
            "Epoch 22/30\n",
            "9/9 [==============================] - 0s 8ms/step - loss: 0.4396 - binary_accuracy: 0.8396 - val_loss: 0.4313 - val_binary_accuracy: 0.8636\n",
            "Epoch 23/30\n",
            "9/9 [==============================] - 0s 10ms/step - loss: 0.4295 - binary_accuracy: 0.8321 - val_loss: 0.4215 - val_binary_accuracy: 0.8712\n",
            "Epoch 24/30\n",
            "9/9 [==============================] - 0s 9ms/step - loss: 0.4210 - binary_accuracy: 0.8321 - val_loss: 0.4126 - val_binary_accuracy: 0.8636\n",
            "Epoch 25/30\n",
            "9/9 [==============================] - 0s 9ms/step - loss: 0.4130 - binary_accuracy: 0.8321 - val_loss: 0.4034 - val_binary_accuracy: 0.8636\n",
            "Epoch 26/30\n",
            "9/9 [==============================] - 0s 8ms/step - loss: 0.4054 - binary_accuracy: 0.8396 - val_loss: 0.3958 - val_binary_accuracy: 0.8636\n",
            "Epoch 27/30\n",
            "9/9 [==============================] - 0s 8ms/step - loss: 0.3986 - binary_accuracy: 0.8433 - val_loss: 0.3870 - val_binary_accuracy: 0.8712\n",
            "Epoch 28/30\n",
            "9/9 [==============================] - 0s 8ms/step - loss: 0.3919 - binary_accuracy: 0.8433 - val_loss: 0.3790 - val_binary_accuracy: 0.8712\n",
            "Epoch 29/30\n",
            "9/9 [==============================] - 0s 8ms/step - loss: 0.3861 - binary_accuracy: 0.8433 - val_loss: 0.3708 - val_binary_accuracy: 0.8712\n",
            "Epoch 30/30\n",
            "9/9 [==============================] - 0s 8ms/step - loss: 0.3807 - binary_accuracy: 0.8507 - val_loss: 0.3641 - val_binary_accuracy: 0.8712\n"
          ],
          "name": "stdout"
        }
      ]
    },
    {
      "cell_type": "code",
      "metadata": {
        "id": "dSNfbKtnaVvx",
        "colab_type": "code",
        "colab": {}
      },
      "source": [
        ""
      ],
      "execution_count": null,
      "outputs": []
    }
  ]
}